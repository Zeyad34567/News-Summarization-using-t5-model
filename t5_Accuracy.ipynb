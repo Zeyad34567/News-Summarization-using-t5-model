{
  "cells": [
    {
      "cell_type": "code",
      "execution_count": null,
      "id": "06c04ad0",
      "metadata": {
        "id": "06c04ad0"
      },
      "outputs": [],
      "source": [
        "import torch\n",
        "#print(torch.cuda.is_available())\n",
        "#print(torch.cuda.get_device_name(0))\n"
      ]
    },
    {
      "cell_type": "code",
      "execution_count": null,
      "id": "c1dd20c6",
      "metadata": {
        "id": "c1dd20c6"
      },
      "outputs": [],
      "source": [
        "import transformers\n",
        "print(transformers.__version__)\n"
      ]
    },
    {
      "cell_type": "code",
      "execution_count": null,
      "id": "0fcc601e",
      "metadata": {
        "id": "0fcc601e"
      },
      "outputs": [],
      "source": [
        "import pandas as pd\n",
        "import numpy as np\n",
        "import matplotlib.pyplot as plt\n",
        "import seaborn as sns\n",
        "\n",
        "import nltk\n",
        "nltk.download('punkt')\n",
        "\n",
        "from transformers import T5Tokenizer, T5ForConditionalGeneration, Trainer, TrainingArguments\n",
        "from datasets import Dataset\n",
        "import torch\n"
      ]
    },
    {
      "cell_type": "code",
      "execution_count": null,
      "id": "36a341fb",
      "metadata": {
        "id": "36a341fb"
      },
      "outputs": [],
      "source": [
        "import pandas as pd\n",
        "\n",
        "train_df = pd.read_csv(\"train.csv\", sep=\",\", engine=\"python\", on_bad_lines=\"skip\")\n",
        "val_df = pd.read_csv(\"validation.csv\", sep=\",\", engine=\"python\", on_bad_lines=\"skip\")\n",
        "test_df = pd.read_csv(\"test.csv\", sep=\",\", engine=\"python\", on_bad_lines=\"skip\")\n",
        "\n"
      ]
    },
    {
      "cell_type": "code",
      "execution_count": null,
      "id": "wO165puJjSu8",
      "metadata": {
        "id": "wO165puJjSu8"
      },
      "outputs": [],
      "source": [
        "#print(train_df.columns)\n",
        "#print(train_df.head(3))\n"
      ]
    },
    {
      "cell_type": "code",
      "execution_count": null,
      "id": "fe1f9a35",
      "metadata": {
        "id": "fe1f9a35"
      },
      "outputs": [],
      "source": [
        "print(train_df.columns)\n",
        "print(train_df.head())\n"
      ]
    },
    {
      "cell_type": "code",
      "execution_count": null,
      "id": "fa6726fb",
      "metadata": {
        "id": "fa6726fb"
      },
      "outputs": [],
      "source": [
        "train_df = train_df.rename(columns={\"article\": \"text\", \"highlights\": \"summary\"})\n",
        "val_df   = val_df.rename(columns={\"article\": \"text\", \"highlights\": \"summary\"})\n",
        "test_df  = test_df.rename(columns={\"article\": \"text\", \"highlights\": \"summary\"})\n"
      ]
    },
    {
      "cell_type": "code",
      "execution_count": null,
      "id": "L_cW04n-xp_n",
      "metadata": {
        "id": "L_cW04n-xp_n"
      },
      "outputs": [],
      "source": [
        "from transformers import T5Tokenizer, T5ForConditionalGeneration, TrainingArguments, Trainer\n",
        "\n",
        "train_sample = train_df.sample(n=200, random_state=42)\n",
        "val_sample = val_df.sample(n=100, random_state=42)\n",
        "test_sample = test_df.sample(n=100, random_state=42)"
      ]
    },
    {
      "cell_type": "code",
      "execution_count": null,
      "id": "821673e2",
      "metadata": {
        "id": "821673e2"
      },
      "outputs": [],
      "source": [
        "from transformers import T5Tokenizer, T5ForConditionalGeneration\n",
        "\n",
        "tokenizer = T5Tokenizer.from_pretrained(\"t5-base\")\n",
        "model = T5ForConditionalGeneration.from_pretrained(\"t5-base\")\n"
      ]
    },
    {
      "cell_type": "code",
      "execution_count": null,
      "id": "b0dfa9dd",
      "metadata": {
        "id": "b0dfa9dd"
      },
      "outputs": [],
      "source": [
        "max_input_length = 256\n",
        "max_target_length = 64\n",
        "\n",
        "def preprocess_function(examples):\n",
        "    inputs = [\"summarize: \" + doc for doc in examples[\"text\"]]\n",
        "    model_inputs = tokenizer(inputs, max_length=max_input_length, truncation=True, padding=\"max_length\")\n",
        "\n",
        "    with tokenizer.as_target_tokenizer():\n",
        "        labels = tokenizer(examples[\"summary\"], max_length=max_target_length, truncation=True, padding=\"max_length\")\n",
        "\n",
        "    model_inputs[\"labels\"] = labels[\"input_ids\"]\n",
        "    return model_inputs\n",
        "\n",
        "\n"
      ]
    },
    {
      "cell_type": "code",
      "execution_count": null,
      "id": "18b9fb0c",
      "metadata": {
        "id": "18b9fb0c"
      },
      "outputs": [],
      "source": [
        "from datasets import Dataset\n",
        "\n",
        "train_dataset = Dataset.from_pandas(train_df)\n",
        "val_dataset = Dataset.from_pandas(val_df)\n",
        "test_dataset = Dataset.from_pandas(test_df)\n"
      ]
    },
    {
      "cell_type": "code",
      "execution_count": null,
      "id": "fEoICZR_iQ85",
      "metadata": {
        "id": "fEoICZR_iQ85"
      },
      "outputs": [],
      "source": [
        "print(train_sample.columns)\n"
      ]
    },
    {
      "cell_type": "code",
      "execution_count": null,
      "id": "OA6K8kxoka-7",
      "metadata": {
        "id": "OA6K8kxoka-7"
      },
      "outputs": [],
      "source": [
        "#max_input_length = 256\n",
        "#max_target_length = 64\n",
        "\n",
        "#def preprocess_function(examples):\n",
        " #   inputs = examples[\"text\"]\n",
        "  #  targets = examples[\"summary\"]\n",
        "\n",
        "   # model_inputs = tokenizer(\n",
        "    #    inputs,\n",
        "     #   max_length=512,\n",
        "      #  padding=\"max_length\",\n",
        "       # truncation=True\n",
        "    #)\n",
        "\n",
        "    #labels = tokenizer(\n",
        "     #   targets,\n",
        "      #  max_length=128,\n",
        "       # padding=\"max_length\",\n",
        "        #truncation=True\n",
        "   # )\n",
        "\n",
        "   # model_inputs[\"labels\"] = labels[\"input_ids\"]\n",
        "    #return model_inputs\n"
      ]
    },
    {
      "cell_type": "code",
      "execution_count": null,
      "id": "_INQzCEimnbz",
      "metadata": {
        "id": "_INQzCEimnbz"
      },
      "outputs": [],
      "source": [
        "from datasets import Dataset\n",
        "\n",
        "train_dataset = Dataset.from_pandas(train_sample, preserve_index=False)\n",
        "val_dataset = Dataset.from_pandas(val_sample, preserve_index=False)\n",
        "test_dataset = Dataset.from_pandas(test_sample, preserve_index=False)\n"
      ]
    },
    {
      "cell_type": "code",
      "execution_count": null,
      "id": "QZiKATQVmsgs",
      "metadata": {
        "id": "QZiKATQVmsgs"
      },
      "outputs": [],
      "source": [
        "max_input_length = 256\n",
        "max_target_length = 64\n",
        "\n",
        "def preprocess_function(examples):\n",
        "    inputs = [\"summarize: \" + doc for doc in examples[\"text\"]]\n",
        "    model_inputs = tokenizer(inputs, max_length=512, truncation=True)\n",
        "\n",
        "    with tokenizer.as_target_tokenizer():\n",
        "        labels = tokenizer(examples[\"summary\"], max_length=150, truncation=True)\n",
        "\n",
        "    model_inputs[\"labels\"] = labels[\"input_ids\"]\n",
        "    return model_inputs\n",
        "\n",
        "def preprocess_function(examples):\n",
        "    inputs = examples[\"text\"]\n",
        "    targets = examples[\"summary\"]\n",
        "\n",
        "    model_inputs = tokenizer(\n",
        "        inputs,\n",
        "        max_length=512,\n",
        "        padding=\"max_length\",\n",
        "        truncation=True\n",
        "    )\n",
        "\n",
        "    labels = tokenizer(\n",
        "        targets,\n",
        "        max_length=128,\n",
        "        padding=\"max_length\",\n",
        "        truncation=True\n",
        "    )\n",
        "\n",
        "    model_inputs[\"labels\"] = labels[\"input_ids\"]\n",
        "    return model_inputs\n"
      ]
    },
    {
      "cell_type": "code",
      "execution_count": null,
      "id": "wd837_eanDBV",
      "metadata": {
        "id": "wd837_eanDBV"
      },
      "outputs": [],
      "source": [
        "print(train_sample.columns)\n",
        "print(train_sample.head())\n"
      ]
    },
    {
      "cell_type": "code",
      "execution_count": null,
      "id": "N-V9KNw_nxG4",
      "metadata": {
        "id": "N-V9KNw_nxG4"
      },
      "outputs": [],
      "source": [
        "print(train_dataset.features)\n"
      ]
    },
    {
      "cell_type": "code",
      "execution_count": null,
      "id": "2gsTzeNwo0JH",
      "metadata": {
        "id": "2gsTzeNwo0JH"
      },
      "outputs": [],
      "source": [
        "#!pip install transformers==4.40.0 --upgrade\n"
      ]
    },
    {
      "cell_type": "code",
      "execution_count": null,
      "id": "Mf_bYwdsrQ5T",
      "metadata": {
        "id": "Mf_bYwdsrQ5T"
      },
      "outputs": [],
      "source": [
        "!pip install evaluate"
      ]
    },
    {
      "cell_type": "code",
      "execution_count": null,
      "id": "IT41jmgPrdYR",
      "metadata": {
        "id": "IT41jmgPrdYR"
      },
      "outputs": [],
      "source": [
        "!pip install rouge_score"
      ]
    },
    {
      "cell_type": "code",
      "execution_count": null,
      "id": "KDgJztu2uAz_",
      "metadata": {
        "id": "KDgJztu2uAz_"
      },
      "outputs": [],
      "source": [
        "import evaluate\n",
        "\n",
        "rouge = evaluate.load(\"rouge\")\n",
        "\n",
        "def compute_metrics(eval_pred):\n",
        "    preds, labels = eval_pred\n",
        "    decoded_preds = tokenizer.batch_decode(preds, skip_special_tokens=True)\n",
        "    decoded_labels = tokenizer.batch_decode(labels, skip_special_tokens=True)\n",
        "\n",
        "    result = rouge.compute(predictions=decoded_preds, references=decoded_labels, use_stemmer=True)\n",
        "    return {\n",
        "        \"rouge1\": result[\"rouge1\"].mid.fmeasure,\n",
        "        \"rouge2\": result[\"rouge2\"].mid.fmeasure,\n",
        "        \"rougeL\": result[\"rougeL\"].mid.fmeasure,\n",
        "    }\n"
      ]
    },
    {
      "cell_type": "code",
      "execution_count": null,
      "id": "ZvnTJ8J5pfCo",
      "metadata": {
        "id": "ZvnTJ8J5pfCo"
      },
      "outputs": [],
      "source": [
        "from transformers import TrainingArguments\n",
        "\n",
        "training_args = TrainingArguments(\n",
        "    output_dir=\"./results\",\n",
        "    per_device_train_batch_size=8,\n",
        "    per_device_eval_batch_size=8,\n",
        "    num_train_epochs=3,\n",
        "    eval_strategy=\"epoch\",\n",
        "    # ... other arguments ...\n",
        ")\n",
        "\n",
        "trainer = Trainer(\n",
        "    model=model,\n",
        "    args=training_args,\n",
        "    train_dataset=train_dataset,\n",
        "    eval_dataset=val_dataset,\n",
        "    tokenizer=tokenizer,\n",
        "    compute_metrics=compute_metrics\n",
        ")"
      ]
    },
    {
      "cell_type": "code",
      "execution_count": null,
      "id": "FLENOrPqlxrL",
      "metadata": {
        "id": "FLENOrPqlxrL"
      },
      "outputs": [],
      "source": [
        "#trainer = Trainer(\n",
        " #   model=model,\n",
        "  #  args=training_args,\n",
        "   # train_dataset=train_dataset,\n",
        "    #eval_dataset=val_dataset,\n",
        "    #tokenizer=tokenizer,\n",
        "    #compute_metrics=compute_metrics\n",
        "#)\n"
      ]
    },
    {
      "cell_type": "code",
      "execution_count": null,
      "id": "6daa3aa0",
      "metadata": {
        "colab": {
          "base_uri": "https://localhost:8080/",
          "height": 301,
          "referenced_widgets": [
            "d9e506a1a1484bba9a9665db353e079e",
            "aefdbe9317214db5add0ca8662b8897e",
            "13d6146b5e344877868a036459371013",
            "b1c3cd19f7cc4b319f9563917f1c344c",
            "099065e9d2424931ac64b5d69e58349c",
            "0443c9bdc7c44efc9f1f4ccc8da875ef",
            "7b2d0b1777f041d68b65812e50ac2bd0",
            "68f6ab89f75d4f3cadc669a316469b75",
            "ea0ca2c2a4e8455a8769e3e7fe2a5cc8",
            "a8aab73c6ab8426e9b657da80b246c20",
            "ea0da3ef81b0440d868d2d8bf96fa0ee",
            "fa8ae09581904540a448f8f766e1c2f1",
            "5cf2c82ab2df430789318e5d001eaaec",
            "a6049cbc9efa4a5280b9bff957bec20e",
            "ff32f40709ad48d59c04a40487f5d525",
            "09783feb00dd4095ad85d7bda8eff5a6",
            "74f6d1aed0324aafa8a33a6b745b2046",
            "dc370474fe6044a9bb8d089c34f864f8",
            "a2a32289d1c44795b79307b5373ce5ec",
            "d6ca0d43ab8e451a821df6402c3a50db",
            "d849b8eba73e41208d1b51dae44dc496",
            "4cad71816e0b41269048cc0fc5a2910d",
            "406ce8a7fd4242f182f7be28c7621cb6",
            "5c20c4dd2f054681a4be0ab13293f4f6",
            "3f2a3e02c3264d259ff9c1d66915fef0",
            "c76ceb3fe5a943e0bbf7f0b6ddb79123",
            "37e40137942e468384b8f23e27f94a78",
            "b03ead1e236f45548a7be9546535db56",
            "83a8436e74b545d892ef57611e95557c",
            "e5875b0f5453480ca05affb4f75617a6",
            "b993a84072e240bdbfbbb4dfcca7cc9a",
            "a5b52bfcd69f4e08b89df62b7056d404",
            "f7652f6642b64aa2b675ab944472c7c7"
          ]
        },
        "id": "6daa3aa0",
        "outputId": "5e47c440-cf80-4c05-cb05-336c75dbe92d"
      },
      "outputs": [
        {
          "data": {
            "application/vnd.jupyter.widget-view+json": {
              "model_id": "d9e506a1a1484bba9a9665db353e079e",
              "version_major": 2,
              "version_minor": 0
            },
            "text/plain": [
              "Map:   0%|          | 0/200 [00:00<?, ? examples/s]"
            ]
          },
          "metadata": {},
          "output_type": "display_data"
        },
        {
          "data": {
            "application/vnd.jupyter.widget-view+json": {
              "model_id": "fa8ae09581904540a448f8f766e1c2f1",
              "version_major": 2,
              "version_minor": 0
            },
            "text/plain": [
              "Map:   0%|          | 0/100 [00:00<?, ? examples/s]"
            ]
          },
          "metadata": {},
          "output_type": "display_data"
        },
        {
          "data": {
            "application/vnd.jupyter.widget-view+json": {
              "model_id": "406ce8a7fd4242f182f7be28c7621cb6",
              "version_major": 2,
              "version_minor": 0
            },
            "text/plain": [
              "Map:   0%|          | 0/100 [00:00<?, ? examples/s]"
            ]
          },
          "metadata": {},
          "output_type": "display_data"
        },
        {
          "name": "stderr",
          "output_type": "stream",
          "text": [
            "<ipython-input-24-96b3aaccc5ae>:34: FutureWarning: `tokenizer` is deprecated and will be removed in version 5.0.0 for `Trainer.__init__`. Use `processing_class` instead.\n",
            "  trainer = Trainer(\n",
            "Passing a tuple of `past_key_values` is deprecated and will be removed in Transformers v4.48.0. You should pass an instance of `EncoderDecoderCache` instead, e.g. `past_key_values=EncoderDecoderCache.from_legacy_cache(past_key_values)`.\n"
          ]
        },
        {
          "data": {
            "text/html": [
              "\n",
              "    <div>\n",
              "      \n",
              "      <progress value='4' max='100' style='width:300px; height:20px; vertical-align: middle;'></progress>\n",
              "      [  4/100 02:44 < 2:11:41, 0.01 it/s, Epoch 0.12/4]\n",
              "    </div>\n",
              "    <table border=\"1\" class=\"dataframe\">\n",
              "  <thead>\n",
              " <tr style=\"text-align: left;\">\n",
              "      <th>Epoch</th>\n",
              "      <th>Training Loss</th>\n",
              "      <th>Validation Loss</th>\n",
              "    </tr>\n",
              "  </thead>\n",
              "  <tbody>\n",
              "  </tbody>\n",
              "</table><p>"
            ],
            "text/plain": [
              "<IPython.core.display.HTML object>"
            ]
          },
          "metadata": {},
          "output_type": "display_data"
        },
        {
          "data": {
            "text/html": [
              "\n",
              "    <div>\n",
              "      \n",
              "      <progress value='6' max='100' style='width:300px; height:20px; vertical-align: middle;'></progress>\n",
              "      [  6/100 05:24 < 2:07:15, 0.01 it/s, Epoch 0.20/4]\n",
              "    </div>\n",
              "    <table border=\"1\" class=\"dataframe\">\n",
              "  <thead>\n",
              " <tr style=\"text-align: left;\">\n",
              "      <th>Epoch</th>\n",
              "      <th>Training Loss</th>\n",
              "      <th>Validation Loss</th>\n",
              "    </tr>\n",
              "  </thead>\n",
              "  <tbody>\n",
              "  </tbody>\n",
              "</table><p>"
            ],
            "text/plain": [
              "<IPython.core.display.HTML object>"
            ]
          },
          "metadata": {},
          "output_type": "display_data"
        }
      ],
      "source": [
        "from transformers import T5Tokenizer, T5ForConditionalGeneration, TrainingArguments, Trainer\n",
        "\n",
        "train_sample = train_df.sample(n=200, random_state=42)\n",
        "val_sample = val_df.sample(n=100, random_state=42)\n",
        "test_sample = test_df.sample(n=100, random_state=42)\n",
        "\n",
        "\n",
        "train_dataset = Dataset.from_pandas(train_sample)\n",
        "val_dataset = Dataset.from_pandas(val_sample)\n",
        "test_dataset = Dataset.from_pandas(test_sample)\n",
        "\n",
        "\n",
        "train_dataset = train_dataset.map(preprocess_function, batched=True, batch_size=4)\n",
        "val_dataset = val_dataset.map(preprocess_function, batched=True, batch_size=4)\n",
        "test_dataset = test_dataset.map(preprocess_function, batched=True, batch_size=4)\n",
        "\n",
        "training_args =  TrainingArguments (\n",
        "    output_dir=\"./results\",\n",
        "    eval_strategy=\"epoch\",\n",
        "    learning_rate=2e-5,\n",
        "    per_device_train_batch_size=2,\n",
        "    per_device_eval_batch_size=2,\n",
        "    gradient_accumulation_steps=4,\n",
        "    num_train_epochs=4,\n",
        "    weight_decay=0.01,\n",
        "    save_total_limit=2,\n",
        "    logging_dir=\"./logs\",\n",
        "    logging_steps=10,\n",
        "     report_to=\"none\",\n",
        "    save_strategy=\"epoch\",\n",
        "    load_best_model_at_end=True,\n",
        "    #fp16=True,\n",
        ")\n",
        "trainer = Trainer(\n",
        "    model=model,\n",
        "    args=training_args,\n",
        "    train_dataset=train_dataset,\n",
        "    eval_dataset=val_dataset,\n",
        "    tokenizer=tokenizer,\n",
        ")\n",
        "\n",
        "trainer.train()\n"
      ]
    },
    {
      "cell_type": "code",
      "execution_count": null,
      "id": "mXPAQlBlY3tw",
      "metadata": {
        "id": "mXPAQlBlY3tw"
      },
      "outputs": [],
      "source": [
        "from datasets import load_metric\n",
        "from transformers import T5Tokenizer, T5ForConditionalGeneration\n",
        "import torch\n",
        "\n",
        "rouge = load_metric(\"rouge\")\n",
        "\n",
        "tokenizer = T5Tokenizer.from_pretrained(\"t5-base\")\n",
        "model = T5ForConditionalGeneration.from_pretrained(\"./results\").to(\"cuda\" if torch.cuda.is_available() else \"cpu\")\n",
        "\n",
        "def generate_summary(text):\n",
        "    input_text = \"summarize: \" + text\n",
        "    inputs = tokenizer(input_text, return_tensors=\"pt\", max_length=512, truncation=True).to(model.device)\n",
        "    summary_ids = model.generate(inputs[\"input_ids\"], max_length=150, num_beams=4, early_stopping=True)\n",
        "    return tokenizer.decode(summary_ids[0], skip_special_tokens=True)\n",
        "\n",
        "test_data = [\n",
        "    {\"input\": \"Modern technology is one of the most important factors...\",\n",
        "     \"target\": \"excessive use of technology can lead to decreased social interaction...\"},\n",
        "\n",
        "]\n",
        "\n",
        "def evaluate_rouge(dataset):\n",
        "    predictions = []\n",
        "    references = []\n",
        "    for sample in dataset:\n",
        "        pred = generate_summary(sample[\"input\"])\n",
        "        predictions.append(pred)\n",
        "        references.append(sample[\"target\"])\n",
        "    results = rouge.compute(predictions=predictions, references=references)\n",
        "    return results\n",
        "\n",
        "print(\"\\n--- Test ROUGE ---\")\n",
        "test_scores = evaluate_rouge(test_data)\n",
        "for key in test_scores:\n",
        "    score = test_scores[key].mid\n",
        "    print(f\"{key.upper()} - Precision: {score.precision:.2f}, Recall: {score.recall:.2f}, F1: {score.fmeasure:.2f}\")\n"
      ]
    },
    {
      "cell_type": "code",
      "execution_count": null,
      "id": "K8lB5H3vn_HL",
      "metadata": {
        "id": "K8lB5H3vn_HL"
      },
      "outputs": [],
      "source": [
        "model.save_pretrained(\"./results\")\n",
        "tokenizer.save_pretrained(\"./results\")\n"
      ]
    },
    {
      "cell_type": "code",
      "execution_count": null,
      "id": "fvxc0L6Kk2ud",
      "metadata": {
        "id": "fvxc0L6Kk2ud"
      },
      "outputs": [],
      "source": [
        "import pandas as pd\n",
        "import matplotlib.pyplot as plt\n",
        "\n",
        "log_history = trainer.state.log_history\n",
        "df_log = pd.DataFrame(log_history)\n",
        "\n",
        "plt.figure(figsize=(10, 6))\n",
        "if \"loss\" in df_log.columns:\n",
        "    plt.plot(df_log[df_log[\"loss\"].notna()][\"step\"], df_log[df_log[\"loss\"].notna()][\"loss\"], label=\"Training Loss\")\n",
        "if \"eval_loss\" in df_log.columns:\n",
        "    plt.plot(df_log[df_log[\"eval_loss\"].notna()][\"step\"], df_log[df_log[\"eval_loss\"].notna()][\"eval_loss\"], label=\"Validation Loss\")\n",
        "plt.xlabel(\"Step\")\n",
        "plt.ylabel(\"Loss\")\n",
        "plt.title(\"Loss During Training\")\n",
        "plt.legend()\n",
        "plt.grid(True)\n",
        "plt.show()\n",
        "\n",
        "if \"eval_rouge1\" in df_log.columns:\n",
        "    plt.figure(figsize=(10, 6))\n",
        "    plt.plot(df_log[\"step\"], df_log[\"eval_rouge1\"], label=\"ROUGE-1\")\n",
        "    plt.plot(df_log[\"step\"], df_log[\"eval_rouge2\"], label=\"ROUGE-2\")\n",
        "    plt.plot(df_log[\"step\"], df_log[\"eval_rougeL\"], label=\"ROUGE-L\")\n",
        "    plt.xlabel(\"Step\")\n",
        "    plt.ylabel(\"Score\")\n",
        "    plt.title(\"ROUGE Scores During Evaluation\")\n",
        "    plt.legend()\n",
        "    plt.grid(True)\n",
        "    plt.show()\n",
        "else:\n",
        "    print(\"ROUGE scores are not available in the log history.\")\n"
      ]
    },
    {
      "cell_type": "code",
      "execution_count": null,
      "id": "uuUtvJQtnvoK",
      "metadata": {
        "id": "uuUtvJQtnvoK"
      },
      "outputs": [],
      "source": [
        "#print(df_log.columns)\n",
        "#print(df_log.head())\n"
      ]
    },
    {
      "cell_type": "code",
      "execution_count": null,
      "id": "3de48cfb",
      "metadata": {
        "id": "3de48cfb"
      },
      "outputs": [],
      "source": [
        "eval_results = trainer.evaluate(test_dataset)\n",
        "print(\"Evaluation Results:\", eval_results)\n"
      ]
    },
    {
      "cell_type": "code",
      "execution_count": null,
      "id": "P9Vidm-SlhNV",
      "metadata": {
        "id": "P9Vidm-SlhNV"
      },
      "outputs": [],
      "source": [
        "from evaluate import load\n",
        "\n",
        "rouge = load(\"rouge\")\n",
        "\n",
        "def compute_metrics(eval_pred):\n",
        "    preds, labels = eval_pred\n",
        "    decoded_preds = tokenizer.batch_decode(preds, skip_special_tokens=True)\n",
        "    decoded_labels = tokenizer.batch_decode(labels, skip_special_tokens=True)\n",
        "\n",
        "    result = rouge.compute(predictions=decoded_preds, references=decoded_labels, use_stemmer=True)\n",
        "    return {\n",
        "        \"rouge1\": result[\"rouge1\"].mid.fmeasure,\n",
        "        \"rouge2\": result[\"rouge2\"].mid.fmeasure,\n",
        "        \"rougeL\": result[\"rougeL\"].mid.fmeasure,\n",
        "    }\n",
        "\n"
      ]
    },
    {
      "cell_type": "code",
      "execution_count": null,
      "id": "qGfKBqLOj-lk",
      "metadata": {
        "id": "qGfKBqLOj-lk"
      },
      "outputs": [],
      "source": [
        "!pip install rouge_score\n"
      ]
    },
    {
      "cell_type": "code",
      "execution_count": null,
      "id": "9sXrpn8Oj-iC",
      "metadata": {
        "id": "9sXrpn8Oj-iC"
      },
      "outputs": [],
      "source": [
        "!pip install evaluate\n",
        "\n",
        "from evaluate import load\n",
        "\n",
        "rouge = load(\"rouge\")\n"
      ]
    },
    {
      "cell_type": "code",
      "execution_count": null,
      "id": "LDzr1o0Njarz",
      "metadata": {
        "id": "LDzr1o0Njarz"
      },
      "outputs": [],
      "source": [
        "import pandas as pd\n",
        "import matplotlib.pyplot as plt\n",
        "\n",
        "logs = pd.DataFrame(trainer.state.log_history)\n",
        "logs.plot(x=\"epoch\", y=[\"loss\", \"eval_loss\"])\n",
        "plt.title(\"Training vs Validation Loss\")\n",
        "plt.show()\n"
      ]
    },
    {
      "cell_type": "code",
      "execution_count": null,
      "id": "cmcW8cEL3W39",
      "metadata": {
        "id": "cmcW8cEL3W39"
      },
      "outputs": [],
      "source": [
        "def summarize_text(text):\n",
        "    inputs = tokenizer(\"summarize: \" + text, return_tensors=\"pt\", max_length=512, truncation=True)\n",
        "    output_ids = model.generate(inputs[\"input_ids\"].to(model.device), max_length=150, num_beams=4, early_stopping=True)\n",
        "    summary = tokenizer.decode(output_ids[0], skip_special_tokens=True)\n",
        "    return summary\n",
        "\n",
        "input_text = input(\"اكتب النص اللي عايز تلخصه:\\n\")\n",
        "\n",
        "\n",
        "predicted_summary = summarize_text(input_text)\n",
        "\n",
        "real_summary = \"\"\n",
        "\n",
        "print(\"\\nالنص الأصلي:\\n\", input_text)\n",
        "print(\"\\nالتلخيص المتوقع:\\n\", predicted_summary)\n"
      ]
    },
    {
      "cell_type": "code",
      "execution_count": null,
      "id": "8V9qUaFX3G4y",
      "metadata": {
        "id": "8V9qUaFX3G4y"
      },
      "outputs": [],
      "source": [
        "from transformers import T5Tokenizer, T5ForConditionalGeneration\n",
        "from evaluate import load\n",
        "import pandas as pd\n",
        "import torch\n",
        "\n",
        "model_path = \"./results\"\n",
        "tokenizer = T5Tokenizer.from_pretrained(\"t5-base\")\n",
        "model = T5ForConditionalGeneration.from_pretrained(model_path)\n",
        "model.to(torch.device(\"cuda\" if torch.cuda.is_available() else \"cpu\"))\n",
        "\n",
        "def summarize_text(text):\n",
        "    input_text = \"summarize: \" + text\n",
        "    inputs = tokenizer(input_text, return_tensors=\"pt\", max_length=512, truncation=True, padding=\"max_length\")\n",
        "    input_ids = inputs[\"input_ids\"].to(model.device)\n",
        "\n",
        "    output_ids = model.generate(\n",
        "        input_ids,\n",
        "        max_length=150,\n",
        "        num_beams=4,\n",
        "        early_stopping=True,\n",
        "        no_repeat_ngram_size=2\n",
        "    )\n",
        "\n",
        "    summary = tokenizer.decode(output_ids[0], skip_special_tokens=True)\n",
        "    return summary\n",
        "\n",
        "df_test = pd.read_csv(\"test.csv\")\n",
        "df_val = pd.read_csv(\"validation.csv\")\n",
        "\n",
        "assert len(df_test) == len(df_val)\n",
        "rouge = load(\"rouge\")\n",
        "\n",
        "for i in range(len(df_test)):\n",
        "    input_text = df_test.iloc[i][\"article\"]\n",
        "    reference_summary = df_val.iloc[i][\"highlights\"]\n",
        "    predicted_summary = summarize_text(input_text)\n",
        "\n",
        "    rouge.add(prediction=predicted_summary, reference=reference_summary)\n",
        "\n",
        "results = rouge.compute()\n",
        "\n",
        "print(\"\\n\\n===== تقييم النموذج على مقارنة test و validation =====\")\n",
        "for key in results:\n",
        "    print(f\"{key}: {results[key].mid.fmeasure:.4f}\")\n"
      ]
    },
    {
      "cell_type": "code",
      "execution_count": null,
      "id": "04zGf43y3G2U",
      "metadata": {
        "id": "04zGf43y3G2U"
      },
      "outputs": [],
      "source": []
    },
    {
      "cell_type": "code",
      "execution_count": null,
      "id": "ewYmFpTO3Gz8",
      "metadata": {
        "id": "ewYmFpTO3Gz8"
      },
      "outputs": [],
      "source": []
    }
  ],
  "metadata": {
    "colab": {
      "provenance": []
    },
    "kernelspec": {
      "display_name": "Python 3",
      "name": "python3"
    },
    "language_info": {
      "codemirror_mode": {
        "name": "ipython",
        "version": 3
      },
      "file_extension": ".py",
      "mimetype": "text/x-python",
      "name": "python",
      "nbconvert_exporter": "python",
      "pygments_lexer": "ipython3",
      "version": "3.10.16"
    },
    "widgets": {
      "application/vnd.jupyter.widget-state+json": {
        "0443c9bdc7c44efc9f1f4ccc8da875ef": {
          "model_module": "@jupyter-widgets/base",
          "model_module_version": "1.2.0",
          "model_name": "LayoutModel",
          "state": {
            "_model_module": "@jupyter-widgets/base",
            "_model_module_version": "1.2.0",
            "_model_name": "LayoutModel",
            "_view_count": null,
            "_view_module": "@jupyter-widgets/base",
            "_view_module_version": "1.2.0",
            "_view_name": "LayoutView",
            "align_content": null,
            "align_items": null,
            "align_self": null,
            "border": null,
            "bottom": null,
            "display": null,
            "flex": null,
            "flex_flow": null,
            "grid_area": null,
            "grid_auto_columns": null,
            "grid_auto_flow": null,
            "grid_auto_rows": null,
            "grid_column": null,
            "grid_gap": null,
            "grid_row": null,
            "grid_template_areas": null,
            "grid_template_columns": null,
            "grid_template_rows": null,
            "height": null,
            "justify_content": null,
            "justify_items": null,
            "left": null,
            "margin": null,
            "max_height": null,
            "max_width": null,
            "min_height": null,
            "min_width": null,
            "object_fit": null,
            "object_position": null,
            "order": null,
            "overflow": null,
            "overflow_x": null,
            "overflow_y": null,
            "padding": null,
            "right": null,
            "top": null,
            "visibility": null,
            "width": null
          }
        },
        "09783feb00dd4095ad85d7bda8eff5a6": {
          "model_module": "@jupyter-widgets/base",
          "model_module_version": "1.2.0",
          "model_name": "LayoutModel",
          "state": {
            "_model_module": "@jupyter-widgets/base",
            "_model_module_version": "1.2.0",
            "_model_name": "LayoutModel",
            "_view_count": null,
            "_view_module": "@jupyter-widgets/base",
            "_view_module_version": "1.2.0",
            "_view_name": "LayoutView",
            "align_content": null,
            "align_items": null,
            "align_self": null,
            "border": null,
            "bottom": null,
            "display": null,
            "flex": null,
            "flex_flow": null,
            "grid_area": null,
            "grid_auto_columns": null,
            "grid_auto_flow": null,
            "grid_auto_rows": null,
            "grid_column": null,
            "grid_gap": null,
            "grid_row": null,
            "grid_template_areas": null,
            "grid_template_columns": null,
            "grid_template_rows": null,
            "height": null,
            "justify_content": null,
            "justify_items": null,
            "left": null,
            "margin": null,
            "max_height": null,
            "max_width": null,
            "min_height": null,
            "min_width": null,
            "object_fit": null,
            "object_position": null,
            "order": null,
            "overflow": null,
            "overflow_x": null,
            "overflow_y": null,
            "padding": null,
            "right": null,
            "top": null,
            "visibility": null,
            "width": null
          }
        },
        "099065e9d2424931ac64b5d69e58349c": {
          "model_module": "@jupyter-widgets/base",
          "model_module_version": "1.2.0",
          "model_name": "LayoutModel",
          "state": {
            "_model_module": "@jupyter-widgets/base",
            "_model_module_version": "1.2.0",
            "_model_name": "LayoutModel",
            "_view_count": null,
            "_view_module": "@jupyter-widgets/base",
            "_view_module_version": "1.2.0",
            "_view_name": "LayoutView",
            "align_content": null,
            "align_items": null,
            "align_self": null,
            "border": null,
            "bottom": null,
            "display": null,
            "flex": null,
            "flex_flow": null,
            "grid_area": null,
            "grid_auto_columns": null,
            "grid_auto_flow": null,
            "grid_auto_rows": null,
            "grid_column": null,
            "grid_gap": null,
            "grid_row": null,
            "grid_template_areas": null,
            "grid_template_columns": null,
            "grid_template_rows": null,
            "height": null,
            "justify_content": null,
            "justify_items": null,
            "left": null,
            "margin": null,
            "max_height": null,
            "max_width": null,
            "min_height": null,
            "min_width": null,
            "object_fit": null,
            "object_position": null,
            "order": null,
            "overflow": null,
            "overflow_x": null,
            "overflow_y": null,
            "padding": null,
            "right": null,
            "top": null,
            "visibility": null,
            "width": null
          }
        },
        "13d6146b5e344877868a036459371013": {
          "model_module": "@jupyter-widgets/controls",
          "model_module_version": "1.5.0",
          "model_name": "FloatProgressModel",
          "state": {
            "_dom_classes": [],
            "_model_module": "@jupyter-widgets/controls",
            "_model_module_version": "1.5.0",
            "_model_name": "FloatProgressModel",
            "_view_count": null,
            "_view_module": "@jupyter-widgets/controls",
            "_view_module_version": "1.5.0",
            "_view_name": "ProgressView",
            "bar_style": "success",
            "description": "",
            "description_tooltip": null,
            "layout": "IPY_MODEL_68f6ab89f75d4f3cadc669a316469b75",
            "max": 200,
            "min": 0,
            "orientation": "horizontal",
            "style": "IPY_MODEL_ea0ca2c2a4e8455a8769e3e7fe2a5cc8",
            "value": 200
          }
        },
        "37e40137942e468384b8f23e27f94a78": {
          "model_module": "@jupyter-widgets/base",
          "model_module_version": "1.2.0",
          "model_name": "LayoutModel",
          "state": {
            "_model_module": "@jupyter-widgets/base",
            "_model_module_version": "1.2.0",
            "_model_name": "LayoutModel",
            "_view_count": null,
            "_view_module": "@jupyter-widgets/base",
            "_view_module_version": "1.2.0",
            "_view_name": "LayoutView",
            "align_content": null,
            "align_items": null,
            "align_self": null,
            "border": null,
            "bottom": null,
            "display": null,
            "flex": null,
            "flex_flow": null,
            "grid_area": null,
            "grid_auto_columns": null,
            "grid_auto_flow": null,
            "grid_auto_rows": null,
            "grid_column": null,
            "grid_gap": null,
            "grid_row": null,
            "grid_template_areas": null,
            "grid_template_columns": null,
            "grid_template_rows": null,
            "height": null,
            "justify_content": null,
            "justify_items": null,
            "left": null,
            "margin": null,
            "max_height": null,
            "max_width": null,
            "min_height": null,
            "min_width": null,
            "object_fit": null,
            "object_position": null,
            "order": null,
            "overflow": null,
            "overflow_x": null,
            "overflow_y": null,
            "padding": null,
            "right": null,
            "top": null,
            "visibility": null,
            "width": null
          }
        },
        "3f2a3e02c3264d259ff9c1d66915fef0": {
          "model_module": "@jupyter-widgets/controls",
          "model_module_version": "1.5.0",
          "model_name": "FloatProgressModel",
          "state": {
            "_dom_classes": [],
            "_model_module": "@jupyter-widgets/controls",
            "_model_module_version": "1.5.0",
            "_model_name": "FloatProgressModel",
            "_view_count": null,
            "_view_module": "@jupyter-widgets/controls",
            "_view_module_version": "1.5.0",
            "_view_name": "ProgressView",
            "bar_style": "success",
            "description": "",
            "description_tooltip": null,
            "layout": "IPY_MODEL_e5875b0f5453480ca05affb4f75617a6",
            "max": 100,
            "min": 0,
            "orientation": "horizontal",
            "style": "IPY_MODEL_b993a84072e240bdbfbbb4dfcca7cc9a",
            "value": 100
          }
        },
        "406ce8a7fd4242f182f7be28c7621cb6": {
          "model_module": "@jupyter-widgets/controls",
          "model_module_version": "1.5.0",
          "model_name": "HBoxModel",
          "state": {
            "_dom_classes": [],
            "_model_module": "@jupyter-widgets/controls",
            "_model_module_version": "1.5.0",
            "_model_name": "HBoxModel",
            "_view_count": null,
            "_view_module": "@jupyter-widgets/controls",
            "_view_module_version": "1.5.0",
            "_view_name": "HBoxView",
            "box_style": "",
            "children": [
              "IPY_MODEL_5c20c4dd2f054681a4be0ab13293f4f6",
              "IPY_MODEL_3f2a3e02c3264d259ff9c1d66915fef0",
              "IPY_MODEL_c76ceb3fe5a943e0bbf7f0b6ddb79123"
            ],
            "layout": "IPY_MODEL_37e40137942e468384b8f23e27f94a78"
          }
        },
        "4cad71816e0b41269048cc0fc5a2910d": {
          "model_module": "@jupyter-widgets/controls",
          "model_module_version": "1.5.0",
          "model_name": "DescriptionStyleModel",
          "state": {
            "_model_module": "@jupyter-widgets/controls",
            "_model_module_version": "1.5.0",
            "_model_name": "DescriptionStyleModel",
            "_view_count": null,
            "_view_module": "@jupyter-widgets/base",
            "_view_module_version": "1.2.0",
            "_view_name": "StyleView",
            "description_width": ""
          }
        },
        "5c20c4dd2f054681a4be0ab13293f4f6": {
          "model_module": "@jupyter-widgets/controls",
          "model_module_version": "1.5.0",
          "model_name": "HTMLModel",
          "state": {
            "_dom_classes": [],
            "_model_module": "@jupyter-widgets/controls",
            "_model_module_version": "1.5.0",
            "_model_name": "HTMLModel",
            "_view_count": null,
            "_view_module": "@jupyter-widgets/controls",
            "_view_module_version": "1.5.0",
            "_view_name": "HTMLView",
            "description": "",
            "description_tooltip": null,
            "layout": "IPY_MODEL_b03ead1e236f45548a7be9546535db56",
            "placeholder": "​",
            "style": "IPY_MODEL_83a8436e74b545d892ef57611e95557c",
            "value": "Map: 100%"
          }
        },
        "5cf2c82ab2df430789318e5d001eaaec": {
          "model_module": "@jupyter-widgets/controls",
          "model_module_version": "1.5.0",
          "model_name": "HTMLModel",
          "state": {
            "_dom_classes": [],
            "_model_module": "@jupyter-widgets/controls",
            "_model_module_version": "1.5.0",
            "_model_name": "HTMLModel",
            "_view_count": null,
            "_view_module": "@jupyter-widgets/controls",
            "_view_module_version": "1.5.0",
            "_view_name": "HTMLView",
            "description": "",
            "description_tooltip": null,
            "layout": "IPY_MODEL_74f6d1aed0324aafa8a33a6b745b2046",
            "placeholder": "​",
            "style": "IPY_MODEL_dc370474fe6044a9bb8d089c34f864f8",
            "value": "Map: 100%"
          }
        },
        "68f6ab89f75d4f3cadc669a316469b75": {
          "model_module": "@jupyter-widgets/base",
          "model_module_version": "1.2.0",
          "model_name": "LayoutModel",
          "state": {
            "_model_module": "@jupyter-widgets/base",
            "_model_module_version": "1.2.0",
            "_model_name": "LayoutModel",
            "_view_count": null,
            "_view_module": "@jupyter-widgets/base",
            "_view_module_version": "1.2.0",
            "_view_name": "LayoutView",
            "align_content": null,
            "align_items": null,
            "align_self": null,
            "border": null,
            "bottom": null,
            "display": null,
            "flex": null,
            "flex_flow": null,
            "grid_area": null,
            "grid_auto_columns": null,
            "grid_auto_flow": null,
            "grid_auto_rows": null,
            "grid_column": null,
            "grid_gap": null,
            "grid_row": null,
            "grid_template_areas": null,
            "grid_template_columns": null,
            "grid_template_rows": null,
            "height": null,
            "justify_content": null,
            "justify_items": null,
            "left": null,
            "margin": null,
            "max_height": null,
            "max_width": null,
            "min_height": null,
            "min_width": null,
            "object_fit": null,
            "object_position": null,
            "order": null,
            "overflow": null,
            "overflow_x": null,
            "overflow_y": null,
            "padding": null,
            "right": null,
            "top": null,
            "visibility": null,
            "width": null
          }
        },
        "74f6d1aed0324aafa8a33a6b745b2046": {
          "model_module": "@jupyter-widgets/base",
          "model_module_version": "1.2.0",
          "model_name": "LayoutModel",
          "state": {
            "_model_module": "@jupyter-widgets/base",
            "_model_module_version": "1.2.0",
            "_model_name": "LayoutModel",
            "_view_count": null,
            "_view_module": "@jupyter-widgets/base",
            "_view_module_version": "1.2.0",
            "_view_name": "LayoutView",
            "align_content": null,
            "align_items": null,
            "align_self": null,
            "border": null,
            "bottom": null,
            "display": null,
            "flex": null,
            "flex_flow": null,
            "grid_area": null,
            "grid_auto_columns": null,
            "grid_auto_flow": null,
            "grid_auto_rows": null,
            "grid_column": null,
            "grid_gap": null,
            "grid_row": null,
            "grid_template_areas": null,
            "grid_template_columns": null,
            "grid_template_rows": null,
            "height": null,
            "justify_content": null,
            "justify_items": null,
            "left": null,
            "margin": null,
            "max_height": null,
            "max_width": null,
            "min_height": null,
            "min_width": null,
            "object_fit": null,
            "object_position": null,
            "order": null,
            "overflow": null,
            "overflow_x": null,
            "overflow_y": null,
            "padding": null,
            "right": null,
            "top": null,
            "visibility": null,
            "width": null
          }
        },
        "7b2d0b1777f041d68b65812e50ac2bd0": {
          "model_module": "@jupyter-widgets/controls",
          "model_module_version": "1.5.0",
          "model_name": "DescriptionStyleModel",
          "state": {
            "_model_module": "@jupyter-widgets/controls",
            "_model_module_version": "1.5.0",
            "_model_name": "DescriptionStyleModel",
            "_view_count": null,
            "_view_module": "@jupyter-widgets/base",
            "_view_module_version": "1.2.0",
            "_view_name": "StyleView",
            "description_width": ""
          }
        },
        "83a8436e74b545d892ef57611e95557c": {
          "model_module": "@jupyter-widgets/controls",
          "model_module_version": "1.5.0",
          "model_name": "DescriptionStyleModel",
          "state": {
            "_model_module": "@jupyter-widgets/controls",
            "_model_module_version": "1.5.0",
            "_model_name": "DescriptionStyleModel",
            "_view_count": null,
            "_view_module": "@jupyter-widgets/base",
            "_view_module_version": "1.2.0",
            "_view_name": "StyleView",
            "description_width": ""
          }
        },
        "a2a32289d1c44795b79307b5373ce5ec": {
          "model_module": "@jupyter-widgets/base",
          "model_module_version": "1.2.0",
          "model_name": "LayoutModel",
          "state": {
            "_model_module": "@jupyter-widgets/base",
            "_model_module_version": "1.2.0",
            "_model_name": "LayoutModel",
            "_view_count": null,
            "_view_module": "@jupyter-widgets/base",
            "_view_module_version": "1.2.0",
            "_view_name": "LayoutView",
            "align_content": null,
            "align_items": null,
            "align_self": null,
            "border": null,
            "bottom": null,
            "display": null,
            "flex": null,
            "flex_flow": null,
            "grid_area": null,
            "grid_auto_columns": null,
            "grid_auto_flow": null,
            "grid_auto_rows": null,
            "grid_column": null,
            "grid_gap": null,
            "grid_row": null,
            "grid_template_areas": null,
            "grid_template_columns": null,
            "grid_template_rows": null,
            "height": null,
            "justify_content": null,
            "justify_items": null,
            "left": null,
            "margin": null,
            "max_height": null,
            "max_width": null,
            "min_height": null,
            "min_width": null,
            "object_fit": null,
            "object_position": null,
            "order": null,
            "overflow": null,
            "overflow_x": null,
            "overflow_y": null,
            "padding": null,
            "right": null,
            "top": null,
            "visibility": null,
            "width": null
          }
        },
        "a5b52bfcd69f4e08b89df62b7056d404": {
          "model_module": "@jupyter-widgets/base",
          "model_module_version": "1.2.0",
          "model_name": "LayoutModel",
          "state": {
            "_model_module": "@jupyter-widgets/base",
            "_model_module_version": "1.2.0",
            "_model_name": "LayoutModel",
            "_view_count": null,
            "_view_module": "@jupyter-widgets/base",
            "_view_module_version": "1.2.0",
            "_view_name": "LayoutView",
            "align_content": null,
            "align_items": null,
            "align_self": null,
            "border": null,
            "bottom": null,
            "display": null,
            "flex": null,
            "flex_flow": null,
            "grid_area": null,
            "grid_auto_columns": null,
            "grid_auto_flow": null,
            "grid_auto_rows": null,
            "grid_column": null,
            "grid_gap": null,
            "grid_row": null,
            "grid_template_areas": null,
            "grid_template_columns": null,
            "grid_template_rows": null,
            "height": null,
            "justify_content": null,
            "justify_items": null,
            "left": null,
            "margin": null,
            "max_height": null,
            "max_width": null,
            "min_height": null,
            "min_width": null,
            "object_fit": null,
            "object_position": null,
            "order": null,
            "overflow": null,
            "overflow_x": null,
            "overflow_y": null,
            "padding": null,
            "right": null,
            "top": null,
            "visibility": null,
            "width": null
          }
        },
        "a6049cbc9efa4a5280b9bff957bec20e": {
          "model_module": "@jupyter-widgets/controls",
          "model_module_version": "1.5.0",
          "model_name": "FloatProgressModel",
          "state": {
            "_dom_classes": [],
            "_model_module": "@jupyter-widgets/controls",
            "_model_module_version": "1.5.0",
            "_model_name": "FloatProgressModel",
            "_view_count": null,
            "_view_module": "@jupyter-widgets/controls",
            "_view_module_version": "1.5.0",
            "_view_name": "ProgressView",
            "bar_style": "success",
            "description": "",
            "description_tooltip": null,
            "layout": "IPY_MODEL_a2a32289d1c44795b79307b5373ce5ec",
            "max": 100,
            "min": 0,
            "orientation": "horizontal",
            "style": "IPY_MODEL_d6ca0d43ab8e451a821df6402c3a50db",
            "value": 100
          }
        },
        "a8aab73c6ab8426e9b657da80b246c20": {
          "model_module": "@jupyter-widgets/base",
          "model_module_version": "1.2.0",
          "model_name": "LayoutModel",
          "state": {
            "_model_module": "@jupyter-widgets/base",
            "_model_module_version": "1.2.0",
            "_model_name": "LayoutModel",
            "_view_count": null,
            "_view_module": "@jupyter-widgets/base",
            "_view_module_version": "1.2.0",
            "_view_name": "LayoutView",
            "align_content": null,
            "align_items": null,
            "align_self": null,
            "border": null,
            "bottom": null,
            "display": null,
            "flex": null,
            "flex_flow": null,
            "grid_area": null,
            "grid_auto_columns": null,
            "grid_auto_flow": null,
            "grid_auto_rows": null,
            "grid_column": null,
            "grid_gap": null,
            "grid_row": null,
            "grid_template_areas": null,
            "grid_template_columns": null,
            "grid_template_rows": null,
            "height": null,
            "justify_content": null,
            "justify_items": null,
            "left": null,
            "margin": null,
            "max_height": null,
            "max_width": null,
            "min_height": null,
            "min_width": null,
            "object_fit": null,
            "object_position": null,
            "order": null,
            "overflow": null,
            "overflow_x": null,
            "overflow_y": null,
            "padding": null,
            "right": null,
            "top": null,
            "visibility": null,
            "width": null
          }
        },
        "aefdbe9317214db5add0ca8662b8897e": {
          "model_module": "@jupyter-widgets/controls",
          "model_module_version": "1.5.0",
          "model_name": "HTMLModel",
          "state": {
            "_dom_classes": [],
            "_model_module": "@jupyter-widgets/controls",
            "_model_module_version": "1.5.0",
            "_model_name": "HTMLModel",
            "_view_count": null,
            "_view_module": "@jupyter-widgets/controls",
            "_view_module_version": "1.5.0",
            "_view_name": "HTMLView",
            "description": "",
            "description_tooltip": null,
            "layout": "IPY_MODEL_0443c9bdc7c44efc9f1f4ccc8da875ef",
            "placeholder": "​",
            "style": "IPY_MODEL_7b2d0b1777f041d68b65812e50ac2bd0",
            "value": "Map: 100%"
          }
        },
        "b03ead1e236f45548a7be9546535db56": {
          "model_module": "@jupyter-widgets/base",
          "model_module_version": "1.2.0",
          "model_name": "LayoutModel",
          "state": {
            "_model_module": "@jupyter-widgets/base",
            "_model_module_version": "1.2.0",
            "_model_name": "LayoutModel",
            "_view_count": null,
            "_view_module": "@jupyter-widgets/base",
            "_view_module_version": "1.2.0",
            "_view_name": "LayoutView",
            "align_content": null,
            "align_items": null,
            "align_self": null,
            "border": null,
            "bottom": null,
            "display": null,
            "flex": null,
            "flex_flow": null,
            "grid_area": null,
            "grid_auto_columns": null,
            "grid_auto_flow": null,
            "grid_auto_rows": null,
            "grid_column": null,
            "grid_gap": null,
            "grid_row": null,
            "grid_template_areas": null,
            "grid_template_columns": null,
            "grid_template_rows": null,
            "height": null,
            "justify_content": null,
            "justify_items": null,
            "left": null,
            "margin": null,
            "max_height": null,
            "max_width": null,
            "min_height": null,
            "min_width": null,
            "object_fit": null,
            "object_position": null,
            "order": null,
            "overflow": null,
            "overflow_x": null,
            "overflow_y": null,
            "padding": null,
            "right": null,
            "top": null,
            "visibility": null,
            "width": null
          }
        },
        "b1c3cd19f7cc4b319f9563917f1c344c": {
          "model_module": "@jupyter-widgets/controls",
          "model_module_version": "1.5.0",
          "model_name": "HTMLModel",
          "state": {
            "_dom_classes": [],
            "_model_module": "@jupyter-widgets/controls",
            "_model_module_version": "1.5.0",
            "_model_name": "HTMLModel",
            "_view_count": null,
            "_view_module": "@jupyter-widgets/controls",
            "_view_module_version": "1.5.0",
            "_view_name": "HTMLView",
            "description": "",
            "description_tooltip": null,
            "layout": "IPY_MODEL_a8aab73c6ab8426e9b657da80b246c20",
            "placeholder": "​",
            "style": "IPY_MODEL_ea0da3ef81b0440d868d2d8bf96fa0ee",
            "value": " 200/200 [00:05&lt;00:00, 60.40 examples/s]"
          }
        },
        "b993a84072e240bdbfbbb4dfcca7cc9a": {
          "model_module": "@jupyter-widgets/controls",
          "model_module_version": "1.5.0",
          "model_name": "ProgressStyleModel",
          "state": {
            "_model_module": "@jupyter-widgets/controls",
            "_model_module_version": "1.5.0",
            "_model_name": "ProgressStyleModel",
            "_view_count": null,
            "_view_module": "@jupyter-widgets/base",
            "_view_module_version": "1.2.0",
            "_view_name": "StyleView",
            "bar_color": null,
            "description_width": ""
          }
        },
        "c76ceb3fe5a943e0bbf7f0b6ddb79123": {
          "model_module": "@jupyter-widgets/controls",
          "model_module_version": "1.5.0",
          "model_name": "HTMLModel",
          "state": {
            "_dom_classes": [],
            "_model_module": "@jupyter-widgets/controls",
            "_model_module_version": "1.5.0",
            "_model_name": "HTMLModel",
            "_view_count": null,
            "_view_module": "@jupyter-widgets/controls",
            "_view_module_version": "1.5.0",
            "_view_name": "HTMLView",
            "description": "",
            "description_tooltip": null,
            "layout": "IPY_MODEL_a5b52bfcd69f4e08b89df62b7056d404",
            "placeholder": "​",
            "style": "IPY_MODEL_f7652f6642b64aa2b675ab944472c7c7",
            "value": " 100/100 [00:01&lt;00:00, 64.98 examples/s]"
          }
        },
        "d6ca0d43ab8e451a821df6402c3a50db": {
          "model_module": "@jupyter-widgets/controls",
          "model_module_version": "1.5.0",
          "model_name": "ProgressStyleModel",
          "state": {
            "_model_module": "@jupyter-widgets/controls",
            "_model_module_version": "1.5.0",
            "_model_name": "ProgressStyleModel",
            "_view_count": null,
            "_view_module": "@jupyter-widgets/base",
            "_view_module_version": "1.2.0",
            "_view_name": "StyleView",
            "bar_color": null,
            "description_width": ""
          }
        },
        "d849b8eba73e41208d1b51dae44dc496": {
          "model_module": "@jupyter-widgets/base",
          "model_module_version": "1.2.0",
          "model_name": "LayoutModel",
          "state": {
            "_model_module": "@jupyter-widgets/base",
            "_model_module_version": "1.2.0",
            "_model_name": "LayoutModel",
            "_view_count": null,
            "_view_module": "@jupyter-widgets/base",
            "_view_module_version": "1.2.0",
            "_view_name": "LayoutView",
            "align_content": null,
            "align_items": null,
            "align_self": null,
            "border": null,
            "bottom": null,
            "display": null,
            "flex": null,
            "flex_flow": null,
            "grid_area": null,
            "grid_auto_columns": null,
            "grid_auto_flow": null,
            "grid_auto_rows": null,
            "grid_column": null,
            "grid_gap": null,
            "grid_row": null,
            "grid_template_areas": null,
            "grid_template_columns": null,
            "grid_template_rows": null,
            "height": null,
            "justify_content": null,
            "justify_items": null,
            "left": null,
            "margin": null,
            "max_height": null,
            "max_width": null,
            "min_height": null,
            "min_width": null,
            "object_fit": null,
            "object_position": null,
            "order": null,
            "overflow": null,
            "overflow_x": null,
            "overflow_y": null,
            "padding": null,
            "right": null,
            "top": null,
            "visibility": null,
            "width": null
          }
        },
        "d9e506a1a1484bba9a9665db353e079e": {
          "model_module": "@jupyter-widgets/controls",
          "model_module_version": "1.5.0",
          "model_name": "HBoxModel",
          "state": {
            "_dom_classes": [],
            "_model_module": "@jupyter-widgets/controls",
            "_model_module_version": "1.5.0",
            "_model_name": "HBoxModel",
            "_view_count": null,
            "_view_module": "@jupyter-widgets/controls",
            "_view_module_version": "1.5.0",
            "_view_name": "HBoxView",
            "box_style": "",
            "children": [
              "IPY_MODEL_aefdbe9317214db5add0ca8662b8897e",
              "IPY_MODEL_13d6146b5e344877868a036459371013",
              "IPY_MODEL_b1c3cd19f7cc4b319f9563917f1c344c"
            ],
            "layout": "IPY_MODEL_099065e9d2424931ac64b5d69e58349c"
          }
        },
        "dc370474fe6044a9bb8d089c34f864f8": {
          "model_module": "@jupyter-widgets/controls",
          "model_module_version": "1.5.0",
          "model_name": "DescriptionStyleModel",
          "state": {
            "_model_module": "@jupyter-widgets/controls",
            "_model_module_version": "1.5.0",
            "_model_name": "DescriptionStyleModel",
            "_view_count": null,
            "_view_module": "@jupyter-widgets/base",
            "_view_module_version": "1.2.0",
            "_view_name": "StyleView",
            "description_width": ""
          }
        },
        "e5875b0f5453480ca05affb4f75617a6": {
          "model_module": "@jupyter-widgets/base",
          "model_module_version": "1.2.0",
          "model_name": "LayoutModel",
          "state": {
            "_model_module": "@jupyter-widgets/base",
            "_model_module_version": "1.2.0",
            "_model_name": "LayoutModel",
            "_view_count": null,
            "_view_module": "@jupyter-widgets/base",
            "_view_module_version": "1.2.0",
            "_view_name": "LayoutView",
            "align_content": null,
            "align_items": null,
            "align_self": null,
            "border": null,
            "bottom": null,
            "display": null,
            "flex": null,
            "flex_flow": null,
            "grid_area": null,
            "grid_auto_columns": null,
            "grid_auto_flow": null,
            "grid_auto_rows": null,
            "grid_column": null,
            "grid_gap": null,
            "grid_row": null,
            "grid_template_areas": null,
            "grid_template_columns": null,
            "grid_template_rows": null,
            "height": null,
            "justify_content": null,
            "justify_items": null,
            "left": null,
            "margin": null,
            "max_height": null,
            "max_width": null,
            "min_height": null,
            "min_width": null,
            "object_fit": null,
            "object_position": null,
            "order": null,
            "overflow": null,
            "overflow_x": null,
            "overflow_y": null,
            "padding": null,
            "right": null,
            "top": null,
            "visibility": null,
            "width": null
          }
        },
        "ea0ca2c2a4e8455a8769e3e7fe2a5cc8": {
          "model_module": "@jupyter-widgets/controls",
          "model_module_version": "1.5.0",
          "model_name": "ProgressStyleModel",
          "state": {
            "_model_module": "@jupyter-widgets/controls",
            "_model_module_version": "1.5.0",
            "_model_name": "ProgressStyleModel",
            "_view_count": null,
            "_view_module": "@jupyter-widgets/base",
            "_view_module_version": "1.2.0",
            "_view_name": "StyleView",
            "bar_color": null,
            "description_width": ""
          }
        },
        "ea0da3ef81b0440d868d2d8bf96fa0ee": {
          "model_module": "@jupyter-widgets/controls",
          "model_module_version": "1.5.0",
          "model_name": "DescriptionStyleModel",
          "state": {
            "_model_module": "@jupyter-widgets/controls",
            "_model_module_version": "1.5.0",
            "_model_name": "DescriptionStyleModel",
            "_view_count": null,
            "_view_module": "@jupyter-widgets/base",
            "_view_module_version": "1.2.0",
            "_view_name": "StyleView",
            "description_width": ""
          }
        },
        "f7652f6642b64aa2b675ab944472c7c7": {
          "model_module": "@jupyter-widgets/controls",
          "model_module_version": "1.5.0",
          "model_name": "DescriptionStyleModel",
          "state": {
            "_model_module": "@jupyter-widgets/controls",
            "_model_module_version": "1.5.0",
            "_model_name": "DescriptionStyleModel",
            "_view_count": null,
            "_view_module": "@jupyter-widgets/base",
            "_view_module_version": "1.2.0",
            "_view_name": "StyleView",
            "description_width": ""
          }
        },
        "fa8ae09581904540a448f8f766e1c2f1": {
          "model_module": "@jupyter-widgets/controls",
          "model_module_version": "1.5.0",
          "model_name": "HBoxModel",
          "state": {
            "_dom_classes": [],
            "_model_module": "@jupyter-widgets/controls",
            "_model_module_version": "1.5.0",
            "_model_name": "HBoxModel",
            "_view_count": null,
            "_view_module": "@jupyter-widgets/controls",
            "_view_module_version": "1.5.0",
            "_view_name": "HBoxView",
            "box_style": "",
            "children": [
              "IPY_MODEL_5cf2c82ab2df430789318e5d001eaaec",
              "IPY_MODEL_a6049cbc9efa4a5280b9bff957bec20e",
              "IPY_MODEL_ff32f40709ad48d59c04a40487f5d525"
            ],
            "layout": "IPY_MODEL_09783feb00dd4095ad85d7bda8eff5a6"
          }
        },
        "ff32f40709ad48d59c04a40487f5d525": {
          "model_module": "@jupyter-widgets/controls",
          "model_module_version": "1.5.0",
          "model_name": "HTMLModel",
          "state": {
            "_dom_classes": [],
            "_model_module": "@jupyter-widgets/controls",
            "_model_module_version": "1.5.0",
            "_model_name": "HTMLModel",
            "_view_count": null,
            "_view_module": "@jupyter-widgets/controls",
            "_view_module_version": "1.5.0",
            "_view_name": "HTMLView",
            "description": "",
            "description_tooltip": null,
            "layout": "IPY_MODEL_d849b8eba73e41208d1b51dae44dc496",
            "placeholder": "​",
            "style": "IPY_MODEL_4cad71816e0b41269048cc0fc5a2910d",
            "value": " 100/100 [00:01&lt;00:00, 63.52 examples/s]"
          }
        }
      }
    }
  },
  "nbformat": 4,
  "nbformat_minor": 5
}
